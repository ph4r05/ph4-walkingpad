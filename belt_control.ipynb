{
 "cells": [
  {
   "cell_type": "markdown",
   "metadata": {},
   "source": [
    "## Step 1 - load lib, setup logging"
   ]
  },
  {
   "cell_type": "code",
   "execution_count": 1,
   "metadata": {},
   "outputs": [],
   "source": [
    "import logging\n",
    "import coloredlogs\n",
    "import asyncio \n",
    "\n",
    "from ph4_walkingpad import pad\n",
    "from ph4_walkingpad.pad import Scanner, WalkingPad, WalkingPadCurStatus, WalkingPadLastStatus, Controller\n",
    "from ph4_walkingpad.utils import setup_logging\n",
    "\n",
    "log = setup_logging()\n",
    "pad.logger = log\n",
    "#coloredlogs.install(level=logging.INFO)"
   ]
  },
  {
   "cell_type": "markdown",
   "metadata": {
    "scrolled": false
   },
   "source": [
    "## Step 2 - scan devices"
   ]
  },
  {
   "cell_type": "code",
   "execution_count": 2,
   "metadata": {},
   "outputs": [
    {
     "name": "stdout",
     "output_type": "stream",
     "text": [
      "Scanning for peripherals...\n",
      "Device: [ 0], 50:F1:4A:AD:23:85, WalkingPad, ['0000fe00-0000-1000-8000-00805f9b34fb']\n"
     ]
    }
   ],
   "source": [
    "scanner = Scanner()\n",
    "await scanner.scan()\n"
   ]
  },
  {
   "cell_type": "markdown",
   "metadata": {},
   "source": [
    "## Step 3 - connect to the WalkingPad"
   ]
  },
  {
   "cell_type": "code",
   "execution_count": 3,
   "metadata": {},
   "outputs": [
    {
     "name": "stdout",
     "output_type": "stream",
     "text": [
      "Connected: True\n",
      "[Service] 0000180a-0000-1000-8000-00805f9b34fb: Device Information\n",
      "\t[Characteristic] 00002a25-0000-1000-8000-00805f9b34fb: (Handle: 9) (read) | Name: Serial Number String, Value: None \n",
      "\t[Characteristic] 00002a26-0000-1000-8000-00805f9b34fb: (Handle: 11) (read) | Name: Firmware Revision String, Value: None \n",
      "\t[Characteristic] 00002a28-0000-1000-8000-00805f9b34fb: (Handle: 13) (read) | Name: Software Revision String, Value: None \n",
      "\t[Characteristic] 00002a24-0000-1000-8000-00805f9b34fb: (Handle: 15) (read) | Name: Model Number String, Value: None \n",
      "\t[Characteristic] 00002a29-0000-1000-8000-00805f9b34fb: (Handle: 17) (read) | Name: Manufacturer Name String, Value: None \n",
      "[Service] 0000fe00-0000-1000-8000-00805f9b34fb: Vendor specific\n",
      "\t[Characteristic] 0000fe01-0000-1000-8000-00805f9b34fb: (Handle: 20) (read,notify) | Name: Vendor specific, Value: None \n",
      "\t\t[Descriptor] 00002902-0000-1000-8000-00805f9b34fb: (Handle: 22) | Value: b'\\x00\\x00' \n",
      "\t[Characteristic] 0000fe02-0000-1000-8000-00805f9b34fb: (Handle: 23) (write-without-response) | Name: Vendor specific, Value: None \n",
      "[Service] 00010203-0405-0607-0809-0a0b0c0d1912: Unknown\n",
      "\t[Characteristic] 00010203-0405-0607-0809-0a0b0c0d2b12: (Handle: 26) (read,write-without-response) | Name: Unknown, Value: None \n",
      "\t\t[Descriptor] 00002901-0000-1000-8000-00805f9b34fb: (Handle: 28) | Value: b'OTA' \n",
      "Enabling notification for 0000fe01-0000-1000-8000-00805f9b34fb\n",
      "Service enumeration done\n"
     ]
    }
   ],
   "source": [
    "ctler = Controller()\n",
    "await ctler.run('50:F1:4A:AD:23:85')  # set MAC address from the scanning"
   ]
  },
  {
   "cell_type": "markdown",
   "metadata": {},
   "source": [
    "## Start belt"
   ]
  },
  {
   "cell_type": "code",
   "execution_count": 4,
   "metadata": {},
   "outputs": [
    {
     "name": "stdout",
     "output_type": "stream",
     "text": [
      "Msg: f8, a2, 00, 00, 01, 00, 00, 00, 00, 00, 00, 00, 00, 00, 01, 00, 81, 00, 25, fd\n",
      "Status: WalkingPadCurStatus(dist=0.0, time=0, steps=0, speed=0.0, state=0, mode=1, app_speed=0.03333333333333333, button=1, rest=0000)\n",
      "Msg: f8, a2, 09, 00, 01, 00, 00, 00, 00, 00, 00, 00, 00, 00, 01, 00, 03, 00, b0, fd\n",
      "Status: WalkingPadCurStatus(dist=0.0, time=0, steps=0, speed=0.0, state=9, mode=1, app_speed=0.03333333333333333, button=1, rest=0000)\n"
     ]
    }
   ],
   "source": [
    "await ctler.switch_mode(WalkingPad.MODE_MANUAL)\n",
    "await asyncio.sleep(1.0)\n",
    "await ctler.start_belt()"
   ]
  },
  {
   "cell_type": "markdown",
   "metadata": {},
   "source": [
    "## Fetch statistics"
   ]
  },
  {
   "cell_type": "code",
   "execution_count": 5,
   "metadata": {},
   "outputs": [
    {
     "name": "stdout",
     "output_type": "stream",
     "text": [
      "Msg: f8, a2, 01, 14, 01, 00, 00, 08, 00, 00, 00, 00, 00, 05, 01, 00, 00, 00, c6, fd\n",
      "Status: WalkingPadCurStatus(dist=0.0, time=8, steps=5, speed=2.0, state=1, mode=1, app_speed=0.03333333333333333, button=1, rest=0000)\n",
      "Msg: f8, a2, 01, 14, 01, 00, 00, 09, 00, 00, 00, 00, 00, 06, 01, 00, 00, 00, c8, fd\n",
      "Status: WalkingPadCurStatus(dist=0.0, time=9, steps=6, speed=2.0, state=1, mode=1, app_speed=0.03333333333333333, button=1, rest=0000)\n",
      "Msg: f8, a2, 01, 14, 01, 00, 00, 0a, 00, 00, 00, 00, 00, 07, 01, 00, 00, 00, ca, fd\n",
      "Status: WalkingPadCurStatus(dist=0.0, time=10, steps=7, speed=2.0, state=1, mode=1, app_speed=0.03333333333333333, button=1, rest=0000)\n",
      "Msg: f8, a2, 01, 14, 01, 00, 00, 0b, 00, 00, 00, 00, 00, 09, 01, 00, 00, 00, cd, fd\n",
      "Status: WalkingPadCurStatus(dist=0.0, time=11, steps=9, speed=2.0, state=1, mode=1, app_speed=0.03333333333333333, button=1, rest=0000)\n",
      "Msg: f8, a2, 01, 14, 01, 00, 00, 0c, 00, 00, 00, 00, 00, 0a, 01, 00, 00, 00, cf, fd\n",
      "Status: WalkingPadCurStatus(dist=0.0, time=12, steps=10, speed=2.0, state=1, mode=1, app_speed=0.03333333333333333, button=1, rest=0000)\n"
     ]
    }
   ],
   "source": [
    "for i in range(5):\n",
    "    await ctler.ask_stats()\n",
    "    await asyncio.sleep(1.0)"
   ]
  },
  {
   "cell_type": "markdown",
   "metadata": {},
   "source": [
    "## Speed change\n"
   ]
  },
  {
   "cell_type": "code",
   "execution_count": 6,
   "metadata": {},
   "outputs": [
    {
     "name": "stdout",
     "output_type": "stream",
     "text": [
      "Msg: f8, a2, 01, 14, 01, 00, 00, 15, 00, 00, 01, 00, 00, 16, 36, 00, 00, 00, 1a, fd\n",
      "Status: WalkingPadCurStatus(dist=0.01, time=21, steps=22, speed=2.0, state=1, mode=1, app_speed=1.8, button=1, rest=0000)\n"
     ]
    }
   ],
   "source": [
    "await ctler.change_speed(18)"
   ]
  },
  {
   "cell_type": "markdown",
   "metadata": {},
   "source": [
    "## Ask history record"
   ]
  },
  {
   "cell_type": "code",
   "execution_count": 7,
   "metadata": {},
   "outputs": [
    {
     "name": "stdout",
     "output_type": "stream",
     "text": [
      "Msg: f8, a7, 00, 1c, 2d, 00, 11, 97, 00, 00, 8c, 00, 00, 05, 00, 00, b9, 01, e3, fd\n",
      "Record: WalkingPadLastStatus(dist=0.05, time=140, steps=185, rest=001c2d001197)\n"
     ]
    }
   ],
   "source": [
    "await ctler.ask_hist(0)"
   ]
  },
  {
   "cell_type": "markdown",
   "metadata": {},
   "source": [
    "## Stop belt"
   ]
  },
  {
   "cell_type": "code",
   "execution_count": 12,
   "metadata": {},
   "outputs": [
    {
     "name": "stdout",
     "output_type": "stream",
     "text": [
      "Msg: f8, a2, 01, 12, 01, 00, 00, 40, 00, 00, 03, 00, 00, 46, 00, 00, 00, 00, 3f, fd\n",
      "Status: WalkingPadCurStatus(dist=0.03, time=64, steps=70, speed=1.8, state=1, mode=1, app_speed=0, button=1, rest=0000)\n",
      "Msg: f8, a2, 01, 09, 02, 00, 00, 41, 00, 00, 03, 00, 00, 48, 02, 00, 00, 00, 3c, fd\n",
      "Status: WalkingPadCurStatus(dist=0.03, time=65, steps=72, speed=0.9, state=1, mode=2, app_speed=0.06666666666666667, button=2, rest=0000)\n"
     ]
    }
   ],
   "source": [
    "# Stop belt\n",
    "await ctler.stop_belt()\n",
    "await asyncio.sleep(1.0)\n",
    "\n",
    "# Standby\n",
    "await ctler.switch_mode(WalkingPad.MODE_STANDBY)"
   ]
  },
  {
   "cell_type": "markdown",
   "metadata": {},
   "source": [
    "## Disconnect Bluetooth LE"
   ]
  },
  {
   "cell_type": "code",
   "execution_count": 13,
   "metadata": {},
   "outputs": [],
   "source": [
    "# Call before terminating\n",
    "await ctler.disconnect()"
   ]
  },
  {
   "cell_type": "code",
   "execution_count": null,
   "metadata": {},
   "outputs": [],
   "source": []
  }
 ],
 "metadata": {
  "kernelspec": {
   "display_name": "Python 3",
   "language": "python",
   "name": "python3"
  },
  "language_info": {
   "codemirror_mode": {
    "name": "ipython",
    "version": 3
   },
   "file_extension": ".py",
   "mimetype": "text/x-python",
   "name": "python",
   "nbconvert_exporter": "python",
   "pygments_lexer": "ipython3",
   "version": "3.7.1"
  }
 },
 "nbformat": 4,
 "nbformat_minor": 2
}
